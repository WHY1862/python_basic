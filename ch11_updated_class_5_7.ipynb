{
 "cells": [
  {
   "cell_type": "code",
   "execution_count": 2,
   "metadata": {
    "executionInfo": {
     "elapsed": 484,
     "status": "ok",
     "timestamp": 1715032360059,
     "user": {
      "displayName": "김유희",
      "userId": "00390714496880607784"
     },
     "user_tz": -540
    },
    "id": "aLyLUrcpstlO"
   },
   "outputs": [],
   "source": [
    "import numpy as np\n",
    "import pandas as pd\n",
    "np.random.seed(12345)\n",
    "import matplotlib.pyplot as plt\n",
    "plt.rc(\"figure\", figsize=(10, 6))\n",
    "plt.rcParams[\"font.family\"] = 'Malgun Gothic'\n",
    "PREVIOUS_MAX_ROWS = pd.options.display.max_rows\n",
    "pd.options.display.max_columns = 20\n",
    "pd.options.display.max_rows = 20\n",
    "pd.options.display.max_colwidth = 80\n",
    "np.set_printoptions(precision=4, suppress=True)"
   ]
  },
  {
   "cell_type": "markdown",
   "metadata": {
    "id": "OIlpz6PUxOSc"
   },
   "source": [
    "# 11장 시계열(time series)\n",
    "* 금융, 경제, 생태학, 신경 과학, 서버 로그 데이터 분석 등 분야에서 사용되는 구조화된 데이터\n",
    "* 시간상의 여러 지점을 관측하거나 측정할수 있는 모든 것\n",
    "* 시간 내에서 특정 순간의 타임스탬프로 색인된 데이터"
   ]
  },
  {
   "cell_type": "markdown",
   "metadata": {
    "id": "FnBsG2oBzsLs"
   },
   "source": [
    "## 1. datetime 모듈의 자료형\n",
    "* datetime: 날짜와 시간을 함께 나타내는 자료형\n",
    "* date: 날짜(연, 월, 일)만을 나타내는 자료형\n",
    "* time: 시간만을 나타내는 자료형\n",
    "* timedelta: 두 날짜 또는 시간 사이의 차이를 나타내는 자료형\n",
    "\n"
   ]
  },
  {
   "cell_type": "markdown",
   "metadata": {
    "id": "JilSYSw10XIf"
   },
   "source": [
    "## 2. datetime의 속성\n",
    "* year: 년도\n",
    "* month: 월\n",
    "* day: 일\n",
    "* hour: 시간\n",
    "* minute: 분\n",
    "* second: 초\n",
    "* microsecond: 마이크로초"
   ]
  },
  {
   "cell_type": "markdown",
   "metadata": {
    "id": "Z6BEGZ410-zX"
   },
   "source": [
    "## 3. datetime 자료형의 메서드\n",
    "* now(): 현재 날짜와 시간을 반환\n",
    "* today(): 오늘 날짜를 반환"
   ]
  },
  {
   "cell_type": "code",
   "execution_count": 3,
   "metadata": {
    "colab": {
     "base_uri": "https://localhost:8080/"
    },
    "executionInfo": {
     "elapsed": 6,
     "status": "ok",
     "timestamp": 1715031465951,
     "user": {
      "displayName": "김유희",
      "userId": "00390714496880607784"
     },
     "user_tz": -540
    },
    "id": "IOIwTIPqstlQ",
    "outputId": "74ea5818-8d42-469b-de0f-63c77aa445d4"
   },
   "outputs": [
    {
     "name": "stdout",
     "output_type": "stream",
     "text": [
      "2024-05-07 15:58:33.442703\n",
      "<class 'datetime.datetime'>\n"
     ]
    }
   ],
   "source": [
    "from datetime import datetime\n",
    "now = datetime.now()\n",
    "print(now)\n",
    "print(type(now))"
   ]
  },
  {
   "cell_type": "code",
   "execution_count": 4,
   "metadata": {
    "colab": {
     "base_uri": "https://localhost:8080/"
    },
    "executionInfo": {
     "elapsed": 318,
     "status": "ok",
     "timestamp": 1715031477470,
     "user": {
      "displayName": "김유희",
      "userId": "00390714496880607784"
     },
     "user_tz": -540
    },
    "id": "v8PmDS6c1l35",
    "outputId": "2d9f703e-ccfd-4300-92bc-63ec363c2533"
   },
   "outputs": [
    {
     "data": {
      "text/plain": [
       "7"
      ]
     },
     "execution_count": 4,
     "metadata": {},
     "output_type": "execute_result"
    }
   ],
   "source": [
    "now.year\n",
    "now.month\n",
    "now.day"
   ]
  },
  {
   "cell_type": "markdown",
   "metadata": {
    "id": "hLqOzpKe2EVo"
   },
   "source": [
    "## 4. timedelta 자료형의 속성\n",
    "* days: 일\n",
    "* seconds: 초\n",
    "* microseconds: 마이크로초"
   ]
  },
  {
   "cell_type": "code",
   "execution_count": 5,
   "metadata": {
    "colab": {
     "base_uri": "https://localhost:8080/"
    },
    "executionInfo": {
     "elapsed": 4,
     "status": "ok",
     "timestamp": 1715031690660,
     "user": {
      "displayName": "김유희",
      "userId": "00390714496880607784"
     },
     "user_tz": -540
    },
    "id": "M9Kzy1cYstlQ",
    "outputId": "a89489ec-8d5f-4c36-f91d-08443245b33d"
   },
   "outputs": [
    {
     "data": {
      "text/plain": [
       "127"
      ]
     },
     "execution_count": 5,
     "metadata": {},
     "output_type": "execute_result"
    }
   ],
   "source": [
    "delta =  datetime.now() - datetime(2024, 1, 1)\n",
    "delta.days"
   ]
  },
  {
   "cell_type": "markdown",
   "metadata": {
    "id": "B-4AakKO27vR"
   },
   "source": [
    "## 5. datetime 포맷 규칙\n",
    "* %Y: 년도 (4자리)\n",
    "* %m: 월 (2자리)\n",
    "* %d: 일 (2자리)\n",
    "* %H: 시간 (24시간제, 2자리)\n",
    "* %M: 분 (2자리)\n",
    "* %S: 초 (2자리)\n"
   ]
  },
  {
   "cell_type": "code",
   "execution_count": 6,
   "metadata": {
    "colab": {
     "base_uri": "https://localhost:8080/",
     "height": 54
    },
    "executionInfo": {
     "elapsed": 340,
     "status": "ok",
     "timestamp": 1715032024438,
     "user": {
      "displayName": "김유희",
      "userId": "00390714496880607784"
     },
     "user_tz": -540
    },
    "id": "0QHkXuX4stlQ",
    "outputId": "8447a000-0c4e-42df-b3d7-ca50b80e5a0f"
   },
   "outputs": [
    {
     "data": {
      "text/plain": [
       "'2024-05-06'"
      ]
     },
     "execution_count": 6,
     "metadata": {},
     "output_type": "execute_result"
    }
   ],
   "source": [
    "# datetime -> 문자열 datetime 객체로 변환\n",
    "stamp = datetime(2024, 5, 6)\n",
    "\n",
    "str(stamp)\n",
    "\n",
    "stamp.strftime(\"%Y-%m-%d\")"
   ]
  },
  {
   "cell_type": "markdown",
   "metadata": {
    "id": "0Gjs_pAj6hps"
   },
   "source": [
    "## 6. 시계열의 종류\n",
    "* 파이썬 문자열\n",
    "* datetime 객체로 표현되는 타임스템프로 색인된 Series"
   ]
  },
  {
   "cell_type": "code",
   "execution_count": 7,
   "metadata": {
    "colab": {
     "base_uri": "https://localhost:8080/"
    },
    "executionInfo": {
     "elapsed": 4,
     "status": "ok",
     "timestamp": 1715032258438,
     "user": {
      "displayName": "김유희",
      "userId": "00390714496880607784"
     },
     "user_tz": -540
    },
    "id": "LheWvP7tstlQ",
    "outputId": "b75cf2ef-5503-4926-9024-4937c490427f"
   },
   "outputs": [
    {
     "data": {
      "text/plain": [
       "datetime.datetime(2011, 1, 3, 0, 0)"
      ]
     },
     "execution_count": 7,
     "metadata": {},
     "output_type": "execute_result"
    }
   ],
   "source": [
    "# 문자열 -> datetime 날짜로 파싱\n",
    "value = \"2011-01-03\"\n",
    "datetime.strptime(value, \"%Y-%m-%d\")\n"
   ]
  },
  {
   "cell_type": "code",
   "execution_count": 8,
   "metadata": {
    "colab": {
     "base_uri": "https://localhost:8080/"
    },
    "executionInfo": {
     "elapsed": 315,
     "status": "ok",
     "timestamp": 1715032630678,
     "user": {
      "displayName": "김유희",
      "userId": "00390714496880607784"
     },
     "user_tz": -540
    },
    "id": "Q9UARqNrstlQ",
    "outputId": "c4375eee-cf17-47a2-8756-f679ad843092"
   },
   "outputs": [
    {
     "data": {
      "text/plain": [
       "DatetimeIndex(['2011-07-06 12:00:00', '2011-08-06 00:00:00'], dtype='datetime64[ns]', freq=None)"
      ]
     },
     "execution_count": 8,
     "metadata": {},
     "output_type": "execute_result"
    }
   ],
   "source": [
    "# 날짜 문자열 리스트 -> datetime으로 파싱\n",
    "datestrs = [\"2011-07-06 12:00:00\", \"2011-08-06 00:00:00\"]\n",
    "pd.to_datetime(datestrs)\n"
   ]
  },
  {
   "cell_type": "code",
   "execution_count": 9,
   "metadata": {
    "colab": {
     "base_uri": "https://localhost:8080/"
    },
    "executionInfo": {
     "elapsed": 316,
     "status": "ok",
     "timestamp": 1715032467432,
     "user": {
      "displayName": "김유희",
      "userId": "00390714496880607784"
     },
     "user_tz": -540
    },
    "id": "kRDsr3C6stlR",
    "outputId": "e8cfecc5-2dab-4441-a65e-149b785b06dc"
   },
   "outputs": [
    {
     "data": {
      "text/plain": [
       "array([False, False,  True])"
      ]
     },
     "execution_count": 9,
     "metadata": {},
     "output_type": "execute_result"
    }
   ],
   "source": [
    "idx = pd.to_datetime(datestrs + [None])\n",
    "idx\n",
    "idx[2]\n",
    "pd.isna(idx)"
   ]
  },
  {
   "cell_type": "markdown",
   "metadata": {
    "id": "tcpZNHem85ad"
   },
   "source": [
    "## 7. 시계열의 색인, 선택, 부분 선택\n"
   ]
  },
  {
   "cell_type": "code",
   "execution_count": 10,
   "metadata": {
    "colab": {
     "base_uri": "https://localhost:8080/"
    },
    "executionInfo": {
     "elapsed": 293,
     "status": "ok",
     "timestamp": 1715033488142,
     "user": {
      "displayName": "김유희",
      "userId": "00390714496880607784"
     },
     "user_tz": -540
    },
    "id": "6HzL3cyvstlR",
    "outputId": "36dba44a-d031-43b1-9770-e958e6156625"
   },
   "outputs": [
    {
     "data": {
      "text/plain": [
       "2011-01-02   -0.204708\n",
       "2011-01-05    0.478943\n",
       "2011-01-07   -0.519439\n",
       "2011-01-08   -0.555730\n",
       "2011-01-10    1.965781\n",
       "2011-01-12    1.393406\n",
       "dtype: float64"
      ]
     },
     "execution_count": 10,
     "metadata": {},
     "output_type": "execute_result"
    }
   ],
   "source": [
    "# (1) datetime 타임스템프로 색인된 Series 객체\n",
    "dates = [datetime(2011, 1, 2), datetime(2011, 1, 5),\n",
    "         datetime(2011, 1, 7), datetime(2011, 1, 8),\n",
    "         datetime(2011, 1, 10), datetime(2011, 1, 12)]\n",
    "ts = pd.Series(np.random.standard_normal(6), index=dates)\n",
    "ts"
   ]
  },
  {
   "cell_type": "code",
   "execution_count": 11,
   "metadata": {
    "colab": {
     "base_uri": "https://localhost:8080/"
    },
    "executionInfo": {
     "elapsed": 317,
     "status": "ok",
     "timestamp": 1715032910469,
     "user": {
      "displayName": "김유희",
      "userId": "00390714496880607784"
     },
     "user_tz": -540
    },
    "id": "6yKtaKtZstlR",
    "outputId": "effdb3dc-8119-4e4c-ff0f-b11975ffcfe1"
   },
   "outputs": [
    {
     "data": {
      "text/plain": [
       "DatetimeIndex(['2011-01-02', '2011-01-05', '2011-01-07', '2011-01-08',\n",
       "               '2011-01-10', '2011-01-12'],\n",
       "              dtype='datetime64[ns]', freq=None)"
      ]
     },
     "execution_count": 11,
     "metadata": {},
     "output_type": "execute_result"
    }
   ],
   "source": [
    "ts.index # DatetimeIndex"
   ]
  },
  {
   "cell_type": "code",
   "execution_count": 12,
   "metadata": {
    "colab": {
     "base_uri": "https://localhost:8080/"
    },
    "executionInfo": {
     "elapsed": 320,
     "status": "ok",
     "timestamp": 1715033209466,
     "user": {
      "displayName": "김유희",
      "userId": "00390714496880607784"
     },
     "user_tz": -540
    },
    "id": "zi5WcFtrstlR",
    "outputId": "85b6b746-d04a-4906-c257-03a43dd15639"
   },
   "outputs": [
    {
     "data": {
      "text/plain": [
       "-0.20470765948471295"
      ]
     },
     "execution_count": 12,
     "metadata": {},
     "output_type": "execute_result"
    }
   ],
   "source": [
    "stamp = ts.index[0]\n",
    "ts[stamp]"
   ]
  },
  {
   "cell_type": "code",
   "execution_count": 13,
   "metadata": {
    "colab": {
     "base_uri": "https://localhost:8080/"
    },
    "executionInfo": {
     "elapsed": 303,
     "status": "ok",
     "timestamp": 1715033185809,
     "user": {
      "displayName": "김유희",
      "userId": "00390714496880607784"
     },
     "user_tz": -540
    },
    "id": "4lkAOZ8ustlS",
    "outputId": "953c9440-f845-4d9c-ab6c-64c43666d619"
   },
   "outputs": [
    {
     "data": {
      "text/plain": [
       "1.9657805725027142"
      ]
     },
     "execution_count": 13,
     "metadata": {},
     "output_type": "execute_result"
    }
   ],
   "source": [
    "ts[\"2011-01-10\"]"
   ]
  },
  {
   "cell_type": "code",
   "execution_count": 14,
   "metadata": {
    "colab": {
     "base_uri": "https://localhost:8080/"
    },
    "executionInfo": {
     "elapsed": 306,
     "status": "ok",
     "timestamp": 1715032957628,
     "user": {
      "displayName": "김유희",
      "userId": "00390714496880607784"
     },
     "user_tz": -540
    },
    "id": "oBsGGdALstlR",
    "outputId": "a68f6be3-362a-426e-da66-7f6cc9a1efec"
   },
   "outputs": [
    {
     "data": {
      "text/plain": [
       "2011-01-02   -0.204708\n",
       "2011-01-07   -0.519439\n",
       "2011-01-10    1.965781\n",
       "dtype: float64"
      ]
     },
     "execution_count": 14,
     "metadata": {},
     "output_type": "execute_result"
    }
   ],
   "source": [
    "ts[::2]\n"
   ]
  },
  {
   "cell_type": "markdown",
   "metadata": {
    "id": "y6E006RZ_5Ut"
   },
   "source": [
    "### [실습] 가상 시계열 데이터 생성\n",
    "* pandas.date_range()  \n",
    "  * pandas 라이브러리의 함수로, 특정 기간 내의 날짜 범위를 생성\n",
    "  * start: 시작 날짜\n",
    "  * end: 종료 날짜\n",
    "  * periods: 생성할 날짜 수\n",
    "  * freq: 날짜 간격 (기본값: 'D' (하루))"
   ]
  },
  {
   "cell_type": "code",
   "execution_count": 15,
   "metadata": {
    "colab": {
     "base_uri": "https://localhost:8080/"
    },
    "executionInfo": {
     "elapsed": 354,
     "status": "ok",
     "timestamp": 1714959255608,
     "user": {
      "displayName": "김유희",
      "userId": "00390714496880607784"
     },
     "user_tz": -540
    },
    "id": "KQZ2lmcestlT",
    "outputId": "884fa40a-5d85-415c-a387-3e07ccb3be86"
   },
   "outputs": [
    {
     "data": {
      "text/plain": [
       "DatetimeIndex(['2012-05-13', '2012-05-14', '2012-05-15', '2012-05-16',\n",
       "               '2012-05-17', '2012-05-18', '2012-05-19', '2012-05-20',\n",
       "               '2012-05-21', '2012-05-22', '2012-05-23', '2012-05-24',\n",
       "               '2012-05-25', '2012-05-26', '2012-05-27', '2012-05-28',\n",
       "               '2012-05-29', '2012-05-30', '2012-05-31', '2012-06-01'],\n",
       "              dtype='datetime64[ns]', freq='D')"
      ]
     },
     "execution_count": 15,
     "metadata": {},
     "output_type": "execute_result"
    }
   ],
   "source": [
    "index = pd.date_range(\"2012-04-01\", \"2012-06-01\")\n",
    "pd.date_range(start=\"2012-04-01\", periods=20)\n",
    "pd.date_range(end=\"2012-06-01\", periods=20)"
   ]
  },
  {
   "cell_type": "code",
   "execution_count": 16,
   "metadata": {
    "colab": {
     "base_uri": "https://localhost:8080/"
    },
    "executionInfo": {
     "elapsed": 301,
     "status": "ok",
     "timestamp": 1715033837708,
     "user": {
      "displayName": "김유희",
      "userId": "00390714496880607784"
     },
     "user_tz": -540
    },
    "id": "yXMWBoISstlS",
    "outputId": "7b40c00f-63d3-41a5-bd09-e3d40a322aec"
   },
   "outputs": [
    {
     "data": {
      "text/plain": [
       "2001-01-01    1.599534\n",
       "2001-01-02    0.474071\n",
       "2001-01-03    0.151326\n",
       "2001-01-04   -0.542173\n",
       "2001-01-05   -0.475496\n",
       "                ...   \n",
       "2001-12-27    0.057874\n",
       "2001-12-28   -0.433739\n",
       "2001-12-29    0.092698\n",
       "2001-12-30   -1.397820\n",
       "2001-12-31    1.457823\n",
       "Freq: D, Length: 365, dtype: float64"
      ]
     },
     "execution_count": 16,
     "metadata": {},
     "output_type": "execute_result"
    }
   ],
   "source": [
    "# ex>  date_range()함수를 이용하여 날짜 시컨스 생성\n",
    "longer_ts = pd.Series(np.random.standard_normal(1000),\n",
    "                      index=pd.date_range(start = \"2000-01-01\", periods=1000))\n",
    "longer_ts\n",
    "longer_ts[\"2001\"]"
   ]
  },
  {
   "cell_type": "code",
   "execution_count": null,
   "metadata": {
    "colab": {
     "base_uri": "https://localhost:8080/"
    },
    "executionInfo": {
     "elapsed": 307,
     "status": "ok",
     "timestamp": 1715033852379,
     "user": {
      "displayName": "김유희",
      "userId": "00390714496880607784"
     },
     "user_tz": -540
    },
    "id": "W4LgSc_CstlS",
    "outputId": "c739cbb0-32af-40a3-8fd2-87b9e5f68d4c"
   },
   "outputs": [],
   "source": [
    "longer_ts[\"2001-05\"]"
   ]
  },
  {
   "cell_type": "code",
   "execution_count": 19,
   "metadata": {
    "colab": {
     "base_uri": "https://localhost:8080/",
     "height": 175
    },
    "executionInfo": {
     "elapsed": 4,
     "status": "ok",
     "timestamp": 1715034294487,
     "user": {
      "displayName": "김유희",
      "userId": "00390714496880607784"
     },
     "user_tz": -540
    },
    "id": "eWSxQh3BstlS",
    "outputId": "cb9878b9-6d2c-43f7-86b2-b7ce22e79124"
   },
   "outputs": [
    {
     "data": {
      "text/html": [
       "<div>\n",
       "<style scoped>\n",
       "    .dataframe tbody tr th:only-of-type {\n",
       "        vertical-align: middle;\n",
       "    }\n",
       "\n",
       "    .dataframe tbody tr th {\n",
       "        vertical-align: top;\n",
       "    }\n",
       "\n",
       "    .dataframe thead th {\n",
       "        text-align: right;\n",
       "    }\n",
       "</style>\n",
       "<table border=\"1\" class=\"dataframe\">\n",
       "  <thead>\n",
       "    <tr style=\"text-align: right;\">\n",
       "      <th></th>\n",
       "      <th>Colorado</th>\n",
       "      <th>Texas</th>\n",
       "      <th>New York</th>\n",
       "      <th>Ohio</th>\n",
       "    </tr>\n",
       "  </thead>\n",
       "  <tbody>\n",
       "    <tr>\n",
       "      <th>2000-01-05</th>\n",
       "      <td>-0.428579</td>\n",
       "      <td>-0.017905</td>\n",
       "      <td>-1.720285</td>\n",
       "      <td>0.010867</td>\n",
       "    </tr>\n",
       "    <tr>\n",
       "      <th>2000-01-12</th>\n",
       "      <td>0.824170</td>\n",
       "      <td>-0.489180</td>\n",
       "      <td>1.832492</td>\n",
       "      <td>1.658668</td>\n",
       "    </tr>\n",
       "    <tr>\n",
       "      <th>2000-01-19</th>\n",
       "      <td>0.454105</td>\n",
       "      <td>-0.194964</td>\n",
       "      <td>-0.976914</td>\n",
       "      <td>-0.296088</td>\n",
       "    </tr>\n",
       "    <tr>\n",
       "      <th>2000-01-26</th>\n",
       "      <td>-0.581274</td>\n",
       "      <td>-0.019941</td>\n",
       "      <td>-0.038100</td>\n",
       "      <td>1.192630</td>\n",
       "    </tr>\n",
       "  </tbody>\n",
       "</table>\n",
       "</div>"
      ],
      "text/plain": [
       "            Colorado     Texas  New York      Ohio\n",
       "2000-01-05 -0.428579 -0.017905 -1.720285  0.010867\n",
       "2000-01-12  0.824170 -0.489180  1.832492  1.658668\n",
       "2000-01-19  0.454105 -0.194964 -0.976914 -0.296088\n",
       "2000-01-26 -0.581274 -0.019941 -0.038100  1.192630"
      ]
     },
     "execution_count": 19,
     "metadata": {},
     "output_type": "execute_result"
    }
   ],
   "source": [
    "# ex> 시계열 데이타프레임 생성\n",
    "dates = pd.date_range(\"2000-01-01\", periods=10, freq=\"W-WED\")\n",
    "long_df = pd.DataFrame(np.random.standard_normal((10, 4)),\n",
    "                       index=dates,\n",
    "                       columns=[\"Colorado\", \"Texas\",\n",
    "                                \"New York\", \"Ohio\"])\n",
    "long_df\n",
    "long_df.loc[\"2000-01\"]"
   ]
  },
  {
   "cell_type": "code",
   "execution_count": 20,
   "metadata": {},
   "outputs": [
    {
     "data": {
      "text/plain": [
       "DatetimeIndex(['2000-01-05', '2000-01-12', '2000-01-19', '2000-01-26',\n",
       "               '2000-02-02', '2000-02-09', '2000-02-16', '2000-02-23',\n",
       "               '2000-03-01', '2000-03-08'],\n",
       "              dtype='datetime64[ns]', freq='W-WED')"
      ]
     },
     "execution_count": 20,
     "metadata": {},
     "output_type": "execute_result"
    }
   ],
   "source": [
    "long_df.index"
   ]
  },
  {
   "cell_type": "code",
   "execution_count": 21,
   "metadata": {
    "colab": {
     "base_uri": "https://localhost:8080/"
    },
    "executionInfo": {
     "elapsed": 325,
     "status": "ok",
     "timestamp": 1715034305091,
     "user": {
      "displayName": "김유희",
      "userId": "00390714496880607784"
     },
     "user_tz": -540
    },
    "id": "-uFWfYM0stlT",
    "outputId": "e7a438b2-49fc-42bd-e842-219953d82ba0"
   },
   "outputs": [
    {
     "name": "stdout",
     "output_type": "stream",
     "text": [
      "name : 2000-01-05 00:00:00\n",
      "            Colorado     Texas  New York      Ohio\n",
      "2000-01-05 -0.428579 -0.017905 -1.720285  0.010867\n",
      "\n",
      "name : 2000-01-12 00:00:00\n",
      "            Colorado    Texas  New York      Ohio\n",
      "2000-01-12   0.82417 -0.48918  1.832492  1.658668\n",
      "\n",
      "name : 2000-01-19 00:00:00\n",
      "            Colorado     Texas  New York      Ohio\n",
      "2000-01-19  0.454105 -0.194964 -0.976914 -0.296088\n",
      "\n",
      "name : 2000-01-26 00:00:00\n",
      "            Colorado     Texas  New York     Ohio\n",
      "2000-01-26 -0.581274 -0.019941   -0.0381  1.19263\n",
      "\n",
      "name : 2000-02-02 00:00:00\n",
      "            Colorado     Texas  New York      Ohio\n",
      "2000-02-02 -1.098127 -0.632915  0.802414 -0.065061\n",
      "\n",
      "name : 2000-02-09 00:00:00\n",
      "            Colorado     Texas  New York      Ohio\n",
      "2000-02-09 -0.154208  0.921908  1.956463  0.379706\n",
      "\n",
      "name : 2000-02-16 00:00:00\n",
      "            Colorado     Texas  New York      Ohio\n",
      "2000-02-16   0.27078 -1.127073  0.525962  0.590275\n",
      "\n",
      "name : 2000-02-23 00:00:00\n",
      "            Colorado     Texas  New York      Ohio\n",
      "2000-02-23  1.139096  0.054854  0.550078  0.160381\n",
      "\n",
      "name : 2000-03-01 00:00:00\n",
      "            Colorado   Texas  New York      Ohio\n",
      "2000-03-01  0.160301 -0.7129 -0.308272  0.317635\n",
      "\n",
      "name : 2000-03-08 00:00:00\n",
      "            Colorado     Texas  New York      Ohio\n",
      "2000-03-08  2.458842 -0.878777  0.850684  0.205855\n",
      "\n"
     ]
    }
   ],
   "source": [
    "# 1) grouping\n",
    "grouped = long_df.groupby(level=0)\n",
    "# 각 그룹별 이름과 데이터를 출력\n",
    "for n, g in grouped:\n",
    "  print(f\"name : {n}\")\n",
    "  print(g)\n",
    "  print()\n"
   ]
  },
  {
   "cell_type": "code",
   "execution_count": 25,
   "metadata": {
    "colab": {
     "base_uri": "https://localhost:8080/"
    },
    "executionInfo": {
     "elapsed": 315,
     "status": "ok",
     "timestamp": 1715034424479,
     "user": {
      "displayName": "김유희",
      "userId": "00390714496880607784"
     },
     "user_tz": -540
    },
    "id": "PvEHWXPEA4Yg",
    "outputId": "69c1765a-9766-4f81-ce8f-dbdbde31e587"
   },
   "outputs": [
    {
     "data": {
      "text/plain": [
       "2000-01-05    1\n",
       "2000-01-12    1\n",
       "2000-01-19    1\n",
       "2000-01-26    1\n",
       "2000-02-02    1\n",
       "2000-02-09    1\n",
       "2000-02-16    1\n",
       "2000-02-23    1\n",
       "2000-03-01    1\n",
       "2000-03-08    1\n",
       "Freq: W-WED, dtype: int64"
      ]
     },
     "execution_count": 25,
     "metadata": {},
     "output_type": "execute_result"
    }
   ],
   "source": [
    "# groupby에 의한 메서드 : mean, std, count, size, max, min, sum..\n",
    "grouped.mean()\n",
    "grouped.count() # 각 그룹에 속하는 컬럼(데이터포인터)의 개수\n",
    "grouped.size() # 각 그룹에 속하는 샘플의 개수"
   ]
  },
  {
   "cell_type": "markdown",
   "metadata": {},
   "source": [
    "## [실습] 시계열 데이터셋 로딩"
   ]
  },
  {
   "cell_type": "code",
   "execution_count": 26,
   "metadata": {
    "colab": {
     "base_uri": "https://localhost:8080/",
     "height": 206
    },
    "executionInfo": {
     "elapsed": 337,
     "status": "ok",
     "timestamp": 1715034906508,
     "user": {
      "displayName": "김유희",
      "userId": "00390714496880607784"
     },
     "user_tz": -540
    },
    "id": "6FO_tgbBstld",
    "outputId": "152ce84a-c6f2-4357-b860-ec3773e4d095"
   },
   "outputs": [
    {
     "data": {
      "text/html": [
       "<div>\n",
       "<style scoped>\n",
       "    .dataframe tbody tr th:only-of-type {\n",
       "        vertical-align: middle;\n",
       "    }\n",
       "\n",
       "    .dataframe tbody tr th {\n",
       "        vertical-align: top;\n",
       "    }\n",
       "\n",
       "    .dataframe thead th {\n",
       "        text-align: right;\n",
       "    }\n",
       "</style>\n",
       "<table border=\"1\" class=\"dataframe\">\n",
       "  <thead>\n",
       "    <tr style=\"text-align: right;\">\n",
       "      <th></th>\n",
       "      <th>AAPL</th>\n",
       "      <th>MSFT</th>\n",
       "      <th>XOM</th>\n",
       "      <th>SPX</th>\n",
       "    </tr>\n",
       "  </thead>\n",
       "  <tbody>\n",
       "    <tr>\n",
       "      <th>2003-01-02</th>\n",
       "      <td>7.40</td>\n",
       "      <td>21.11</td>\n",
       "      <td>29.22</td>\n",
       "      <td>909.03</td>\n",
       "    </tr>\n",
       "    <tr>\n",
       "      <th>2003-01-03</th>\n",
       "      <td>7.45</td>\n",
       "      <td>21.14</td>\n",
       "      <td>29.24</td>\n",
       "      <td>908.59</td>\n",
       "    </tr>\n",
       "    <tr>\n",
       "      <th>2003-01-06</th>\n",
       "      <td>7.45</td>\n",
       "      <td>21.52</td>\n",
       "      <td>29.96</td>\n",
       "      <td>929.01</td>\n",
       "    </tr>\n",
       "    <tr>\n",
       "      <th>2003-01-07</th>\n",
       "      <td>7.43</td>\n",
       "      <td>21.93</td>\n",
       "      <td>28.95</td>\n",
       "      <td>922.93</td>\n",
       "    </tr>\n",
       "    <tr>\n",
       "      <th>2003-01-08</th>\n",
       "      <td>7.28</td>\n",
       "      <td>21.31</td>\n",
       "      <td>28.83</td>\n",
       "      <td>909.93</td>\n",
       "    </tr>\n",
       "  </tbody>\n",
       "</table>\n",
       "</div>"
      ],
      "text/plain": [
       "            AAPL   MSFT    XOM     SPX\n",
       "2003-01-02  7.40  21.11  29.22  909.03\n",
       "2003-01-03  7.45  21.14  29.24  908.59\n",
       "2003-01-06  7.45  21.52  29.96  929.01\n",
       "2003-01-07  7.43  21.93  28.95  922.93\n",
       "2003-01-08  7.28  21.31  28.83  909.93"
      ]
     },
     "execution_count": 26,
     "metadata": {},
     "output_type": "execute_result"
    }
   ],
   "source": [
    "# ex > 시계열 데이터셋 파일 -> 시계열 색인을 갖는 데이터프레임 객체로 변환\n",
    "#index_col = 0\n",
    "close_px_all = pd.read_csv(\"examples/stock_px.csv\", parse_dates=True, index_col= 0)\n",
    "close_px_all.head()"
   ]
  },
  {
   "cell_type": "code",
   "execution_count": 27,
   "metadata": {
    "colab": {
     "base_uri": "https://localhost:8080/"
    },
    "executionInfo": {
     "elapsed": 293,
     "status": "ok",
     "timestamp": 1715034922612,
     "user": {
      "displayName": "김유희",
      "userId": "00390714496880607784"
     },
     "user_tz": -540
    },
    "id": "0K6MgNLfmgtv",
    "outputId": "0111bbbc-524c-4d95-a3f1-e32a8f09cdf4"
   },
   "outputs": [
    {
     "data": {
      "text/plain": [
       "Index(['AAPL', 'MSFT', 'XOM', 'SPX'], dtype='object')"
      ]
     },
     "execution_count": 27,
     "metadata": {},
     "output_type": "execute_result"
    }
   ],
   "source": [
    "close_px_all.columns  # AAPL: Apple Inc, MSFT: Microsoft Corporation, XOM: Exxon Mobil Corporation, SPX: S&P 500 Index\n"
   ]
  },
  {
   "cell_type": "code",
   "execution_count": 28,
   "metadata": {
    "colab": {
     "base_uri": "https://localhost:8080/",
     "height": 423
    },
    "executionInfo": {
     "elapsed": 599,
     "status": "ok",
     "timestamp": 1715034954552,
     "user": {
      "displayName": "김유희",
      "userId": "00390714496880607784"
     },
     "user_tz": -540
    },
    "id": "RwmopSo9nbeR",
    "outputId": "8ef2eae9-c5b5-4360-b54a-bf50fe32f381"
   },
   "outputs": [
    {
     "data": {
      "text/html": [
       "<div>\n",
       "<style scoped>\n",
       "    .dataframe tbody tr th:only-of-type {\n",
       "        vertical-align: middle;\n",
       "    }\n",
       "\n",
       "    .dataframe tbody tr th {\n",
       "        vertical-align: top;\n",
       "    }\n",
       "\n",
       "    .dataframe thead th {\n",
       "        text-align: right;\n",
       "    }\n",
       "</style>\n",
       "<table border=\"1\" class=\"dataframe\">\n",
       "  <thead>\n",
       "    <tr style=\"text-align: right;\">\n",
       "      <th></th>\n",
       "      <th>AAPL</th>\n",
       "      <th>MSFT</th>\n",
       "      <th>XOM</th>\n",
       "    </tr>\n",
       "  </thead>\n",
       "  <tbody>\n",
       "    <tr>\n",
       "      <th>2003-01-02</th>\n",
       "      <td>7.40</td>\n",
       "      <td>21.11</td>\n",
       "      <td>29.22</td>\n",
       "    </tr>\n",
       "    <tr>\n",
       "      <th>2003-01-03</th>\n",
       "      <td>7.45</td>\n",
       "      <td>21.14</td>\n",
       "      <td>29.24</td>\n",
       "    </tr>\n",
       "    <tr>\n",
       "      <th>2003-01-06</th>\n",
       "      <td>7.45</td>\n",
       "      <td>21.52</td>\n",
       "      <td>29.96</td>\n",
       "    </tr>\n",
       "    <tr>\n",
       "      <th>2003-01-07</th>\n",
       "      <td>7.43</td>\n",
       "      <td>21.93</td>\n",
       "      <td>28.95</td>\n",
       "    </tr>\n",
       "    <tr>\n",
       "      <th>2003-01-08</th>\n",
       "      <td>7.28</td>\n",
       "      <td>21.31</td>\n",
       "      <td>28.83</td>\n",
       "    </tr>\n",
       "    <tr>\n",
       "      <th>...</th>\n",
       "      <td>...</td>\n",
       "      <td>...</td>\n",
       "      <td>...</td>\n",
       "    </tr>\n",
       "    <tr>\n",
       "      <th>2011-10-10</th>\n",
       "      <td>388.81</td>\n",
       "      <td>26.94</td>\n",
       "      <td>76.28</td>\n",
       "    </tr>\n",
       "    <tr>\n",
       "      <th>2011-10-11</th>\n",
       "      <td>400.29</td>\n",
       "      <td>27.00</td>\n",
       "      <td>76.27</td>\n",
       "    </tr>\n",
       "    <tr>\n",
       "      <th>2011-10-12</th>\n",
       "      <td>402.19</td>\n",
       "      <td>26.96</td>\n",
       "      <td>77.16</td>\n",
       "    </tr>\n",
       "    <tr>\n",
       "      <th>2011-10-13</th>\n",
       "      <td>408.43</td>\n",
       "      <td>27.18</td>\n",
       "      <td>76.37</td>\n",
       "    </tr>\n",
       "    <tr>\n",
       "      <th>2011-10-14</th>\n",
       "      <td>422.00</td>\n",
       "      <td>27.27</td>\n",
       "      <td>78.11</td>\n",
       "    </tr>\n",
       "  </tbody>\n",
       "</table>\n",
       "<p>2214 rows × 3 columns</p>\n",
       "</div>"
      ],
      "text/plain": [
       "              AAPL   MSFT    XOM\n",
       "2003-01-02    7.40  21.11  29.22\n",
       "2003-01-03    7.45  21.14  29.24\n",
       "2003-01-06    7.45  21.52  29.96\n",
       "2003-01-07    7.43  21.93  28.95\n",
       "2003-01-08    7.28  21.31  28.83\n",
       "...            ...    ...    ...\n",
       "2011-10-10  388.81  26.94  76.28\n",
       "2011-10-11  400.29  27.00  76.27\n",
       "2011-10-12  402.19  26.96  77.16\n",
       "2011-10-13  408.43  27.18  76.37\n",
       "2011-10-14  422.00  27.27  78.11\n",
       "\n",
       "[2214 rows x 3 columns]"
      ]
     },
     "execution_count": 28,
     "metadata": {},
     "output_type": "execute_result"
    }
   ],
   "source": [
    "#인덱싱\n",
    "close_px = close_px_all[[\"AAPL\", \"MSFT\", \"XOM\"]]\n",
    "close_px\n"
   ]
  },
  {
   "cell_type": "code",
   "execution_count": null,
   "metadata": {
    "colab": {
     "base_uri": "https://localhost:8080/",
     "height": 502
    },
    "executionInfo": {
     "elapsed": 1379,
     "status": "ok",
     "timestamp": 1715035088204,
     "user": {
      "displayName": "김유희",
      "userId": "00390714496880607784"
     },
     "user_tz": -540
    },
    "id": "pFQM86fhstld",
    "outputId": "ab611973-f9e0-4b39-ba21-839ea3dd97c7"
   },
   "outputs": [],
   "source": [
    "# (1) line plots\n",
    "# close_px[\"AAPL\"].plot.bar()\n",
    "\n",
    "close_px[\"AAPL\"].plot(kind='line')"
   ]
  },
  {
   "cell_type": "markdown",
   "metadata": {
    "id": "aMpnyd20D2TA"
   },
   "source": [
    "### < pandas.rolling() 메서드>\n",
    "* pandas 라이브러리의 함수로, 특정 기간 동안의 데이터를 그룹화하여 통계를 계산\n",
    "* 롤링창은 시계열 데이터 분석에 매우 중요\n",
    "* 롤링창을 사용하여 데이터 변화 추세, 변동성 측정, 이상치 감지, 예측에 사용\n",
    "* 롤링창을 사용하여 롤링창 내의 데이터 평균, 표준편차, 최대값/최소값, 회귀분석 등\n",
    "* rolling() 함수의 인자:\n",
    "  * window: 그룹화할 데이터의 수\n",
    "  * min_periods: 계산에 포함할 최소 데이터 수 (기본값: window)\n",
    "  * center: 그룹화할 데이터의 중심을 맞출지 여부 (기본값: False)\n",
    "  * win_type: 그룹화할 데이터의 가중치 (기본값: None)\n"
   ]
  },
  {
   "cell_type": "code",
   "execution_count": 29,
   "metadata": {
    "colab": {
     "base_uri": "https://localhost:8080/",
     "height": 720
    },
    "executionInfo": {
     "elapsed": 1265,
     "status": "ok",
     "timestamp": 1715035695867,
     "user": {
      "displayName": "김유희",
      "userId": "00390714496880607784"
     },
     "user_tz": -540
    },
    "id": "GlOUuH2_pLKC",
    "outputId": "a54fc3c5-e6d8-4bc7-b130-382d90e91cf5"
   },
   "outputs": [
    {
     "name": "stdout",
     "output_type": "stream",
     "text": [
      "2003-01-02          NaN\n",
      "2003-01-03          NaN\n",
      "2003-01-06          NaN\n",
      "2003-01-07          NaN\n",
      "2003-01-08          NaN\n",
      "                ...    \n",
      "2011-10-10    346.53988\n",
      "2011-10-11    346.93180\n",
      "2011-10-12    347.28160\n",
      "2011-10-13    347.64332\n",
      "2011-10-14    348.09336\n",
      "Name: AAPL, Length: 2214, dtype: float64\n"
     ]
    },
    {
     "data": {
      "text/plain": [
       "<Axes: >"
      ]
     },
     "execution_count": 29,
     "metadata": {},
     "output_type": "execute_result"
    },
    {
     "data": {
      "image/png": "[encoded data removed]",
      "text/plain": [
       "<Figure size 1000x600 with 1 Axes>"
      ]
     },
     "metadata": {},
     "output_type": "display_data"
    }
   ],
   "source": [
    "# (1)  롤링창 만들어 통계 계산\n",
    "# DataFrame의 \"AAPL\" 열에 대한 rolling() 메서드를 사용하여 크기가 250인 롤링 창을 만드는 방법:\n",
    "# 롤링 창 사용하기: 롤링 창을 만들면 다양한 통계 함수를 사용하여 창 내의 데이터를 분석\n",
    "plt.figure()\n",
    "print(close_px[\"AAPL\"].rolling(250).mean())\n",
    "close_px[\"AAPL\"].rolling(250).mean().plot()\n"
   ]
  },
  {
   "cell_type": "code",
   "execution_count": 30,
   "metadata": {
    "colab": {
     "base_uri": "https://localhost:8080/",
     "height": 502
    },
    "executionInfo": {
     "elapsed": 1117,
     "status": "ok",
     "timestamp": 1715035917176,
     "user": {
      "displayName": "김유희",
      "userId": "00390714496880607784"
     },
     "user_tz": -540
    },
    "id": "q2OMav2jpsFn",
    "outputId": "9553f262-45f5-474a-cb9c-7d740861a7a3"
   },
   "outputs": [
    {
     "data": {
      "text/plain": [
       "<Axes: >"
      ]
     },
     "execution_count": 30,
     "metadata": {},
     "output_type": "execute_result"
    },
    {
     "data": {
      "image/png": "[encoded data removed]",
      "text/plain": [
       "<Figure size 1000x600 with 1 Axes>"
      ]
     },
     "metadata": {},
     "output_type": "display_data"
    }
   ],
   "source": [
    "# (2) 롤링창 만들어 통계 계산 - 2 개의 종가에 대한 250일 롤링 평균 계산\n",
    "plt.figure()\n",
    "close_px[\"AAPL\"].rolling(window = 250).mean().plot()\n",
    "close_px[\"XOM\"].rolling(window = 250).mean().plot()\n",
    "\n"
   ]
  },
  {
   "cell_type": "code",
   "execution_count": 31,
   "metadata": {
    "colab": {
     "base_uri": "https://localhost:8080/",
     "height": 520
    },
    "executionInfo": {
     "elapsed": 1750,
     "status": "ok",
     "timestamp": 1715036128206,
     "user": {
      "displayName": "김유희",
      "userId": "00390714496880607784"
     },
     "user_tz": -540
    },
    "id": "woA9hcBwstld",
    "outputId": "852f1e9c-b8ae-4ff3-d60f-1aed50d5cb27"
   },
   "outputs": [
    {
     "data": {
      "text/plain": [
       "<Axes: >"
      ]
     },
     "execution_count": 31,
     "metadata": {},
     "output_type": "execute_result"
    },
    {
     "data": {
      "text/plain": [
       "<Figure size 1000x600 with 0 Axes>"
      ]
     },
     "metadata": {},
     "output_type": "display_data"
    },
    {
     "data": {
      "image/png": "[encoded data removed]",
      "text/plain": [
       "<Figure size 1000x600 with 1 Axes>"
      ]
     },
     "metadata": {},
     "output_type": "display_data"
    }
   ],
   "source": [
    "# (3) 롤링창 만들어 통계 계산 - 모든 종목의 종가에 대한 60일 롤링 평균 계산:\n",
    "# 2. 60일 롤링 평균을 로그 스케일로 플롯: y축이 로그 스케일로 플롯\n",
    "plt.figure()\n",
    "close_px.rolling(60).mean().plot(logy=True)\n"
   ]
  },
  {
   "cell_type": "code",
   "execution_count": 35,
   "metadata": {
    "colab": {
     "base_uri": "https://localhost:8080/",
     "height": 495
    },
    "executionInfo": {
     "elapsed": 1002,
     "status": "ok",
     "timestamp": 1715036190852,
     "user": {
      "displayName": "김유희",
      "userId": "00390714496880607784"
     },
     "user_tz": -540
    },
    "id": "H44k8B7ostle",
    "outputId": "97678efd-7f91-48dc-8b17-fefe269f03f0"
   },
   "outputs": [
    {
     "data": {
      "image/png": "[encoded data removed]",
      "text/plain": [
       "<Figure size 1000x600 with 1 Axes>"
      ]
     },
     "metadata": {},
     "output_type": "display_data"
    }
   ],
   "source": [
    "# # Create a figure\n",
    "plt.figure()\n",
    "# Select the desired date range for AAPL stock prices\n",
    "aapl_px = close_px[\"AAPL\"][\"2006\":\"2007\"]\n",
    "# Calculate the 30-day simple moving average\n",
    "ma30 = aapl_px.rolling(30, min_periods=20).mean()\n",
    "# Calculate the 30-day exponential moving average\n",
    "ewma30 = aapl_px.ewm(span=30).mean()\n",
    "# Plot the AAPL stock prices : sets the line style to solid (-) and the color to blue (b).\n",
    "aapl_px.plot(style=\"b-\", label=\"Price\")\n",
    "# Plot the 30-day simple moving average\n",
    "ma30.plot(style=\"k--\", label=\"Simple Moving Avg\")\n",
    "# Plot the 30-day exponential moving average\n",
    "ewma30.plot(style=\"k-\", label=\"EW MA\")\n",
    "plt.legend()\n",
    "plt.show()"
   ]
  },
  {
   "cell_type": "code",
   "execution_count": null,
   "metadata": {
    "id": "oEAyfOd5stle"
   },
   "outputs": [],
   "source": []
  }
 ],
 "metadata": {
  "colab": {
   "provenance": []
  },
  "kernelspec": {
   "display_name": "Python 3 (ipykernel)",
   "language": "python",
   "name": "python3"
  },
  "language_info": {
   "codemirror_mode": {
    "name": "ipython",
    "version": 3
   },
   "file_extension": ".py",
   "mimetype": "text/x-python",
   "name": "python",
   "nbconvert_exporter": "python",
   "pygments_lexer": "ipython3",
   "version": "3.12.2"
  }
 },
 "nbformat": 4,
 "nbformat_minor": 4
}
